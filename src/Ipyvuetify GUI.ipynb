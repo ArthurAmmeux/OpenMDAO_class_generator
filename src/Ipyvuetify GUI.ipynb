{
 "cells": [
  {
   "cell_type": "code",
   "execution_count": 1,
   "id": "virtual-facility",
   "metadata": {
    "scrolled": false
   },
   "outputs": [
    {
     "data": {
      "application/vnd.jupyter.widget-view+json": {
       "model_id": "226434d7d6b94621bbeaa6174909a86b",
       "version_major": 2,
       "version_minor": 0
      },
      "text/plain": [
       "Box(children=(Box(children=(Btn(children=['Copy cells'], color='blue lighten-1', height='35px', width='250px')…"
      ]
     },
     "metadata": {},
     "output_type": "display_data"
    },
    {
     "data": {
      "text/markdown": [
       "```python\n",
       "\n",
       "class Component1(om.ExplicitComponent):\n",
       "\n",
       "\tdef setup(self):\n",
       "\t\tself.add_input('x_name', val=np.nan)\n",
       "\t\tself.add_output('y_name')\n",
       "\t\tself.add_output('a_name')\n",
       "\n",
       "\tdef setup_partials(self):\n",
       "\t\tself.declare_partials('*', '*', method='fd')\n",
       "\n",
       "\tdef compute(self, inputs, outputs, discrete_inputs=None, discrete_outputs=None):\n",
       "\n",
       "\t\tx = inputs['x_name']\n",
       "\n",
       "\t\ty = x + 1\n",
       "\t\ta = np.pi**2*r + 1.54\n",
       "\n",
       "\t\toutputs['y_name'] = y\n",
       "\t\toutputs['a_name'] = a\n",
       "\n",
       "\n",
       "class Component 2(om.ExplicitComponent):\n",
       "\n",
       "\tdef setup(self):\n",
       "\t\tself.add_input('v_name', val=0, units='kg')\n",
       "\t\tself.add_input('w_name', val=np.nan)\n",
       "\t\tself.add_output('u_name')\n",
       "\n",
       "\tdef setup_partials(self):\n",
       "\t\tself.declare_partials('*', '*', method='fd')\n",
       "\n",
       "\tdef compute(self, inputs, outputs, discrete_inputs=None, discrete_outputs=None):\n",
       "\n",
       "\t\tv = inputs['v_name']\n",
       "\t\tw = inputs['w_name']\n",
       "\n",
       "\t\tu = np.sin(v + w)**2\n",
       "\n",
       "\t\toutputs['u_name'] = u\n",
       "\n",
       "\n",
       "```"
      ],
      "text/plain": [
       "<IPython.core.display.Markdown object>"
      ]
     },
     "metadata": {},
     "output_type": "display_data"
    }
   ],
   "source": [
    "import importlib\n",
    "import GUI_notebook\n",
    "importlib.reload(GUI_notebook)\n",
    "vb = GUI_notebook.init(In)\n",
    "vb"
   ]
  },
  {
   "cell_type": "code",
   "execution_count": null,
   "id": "executive-workstation",
   "metadata": {},
   "outputs": [],
   "source": [
    "\"\"\"\n",
    "---Test Text---\n",
    "\n",
    "# Component1\n",
    "\n",
    "x = 2*y + 3*z #[m]\n",
    "a = b + c*1.2e-3 #[kg]\n",
    "\n",
    "# Component2\n",
    "\n",
    "long_variable = a + b #[long_unit]\n",
    "function_test = np.log(x + np.sin(y)) #[rad]\n",
    "\n",
    "\n",
    "\"\"\""
   ]
  },
  {
   "cell_type": "code",
   "execution_count": null,
   "id": "given-commonwealth",
   "metadata": {},
   "outputs": [],
   "source": [
    "\"\"\"\n",
    "---Test Text---\n",
    "## Group1\n",
    "\n",
    "# Component1\n",
    "\n",
    "x = 2*y + 3*z #[m]\n",
    "a = b + c*1.2e-3 #[kg]\n",
    "\n",
    "# Component2\n",
    "\n",
    "long_variable = a + b\n",
    "function_test = np.log(x + np.sin(y)) #[rad]\n",
    "\n",
    "## Group2\n",
    "\n",
    "# Component3\n",
    "\n",
    "x = 2*y + 3*z\n",
    "a = b + c\n",
    "\n",
    "# Component4\n",
    "\n",
    "long_variable = a + b\n",
    "function_test = np.log(x + np.sin(y))\n",
    "\n",
    "\"\"\""
   ]
  },
  {
   "cell_type": "code",
   "execution_count": 24,
   "id": "existing-investigation",
   "metadata": {},
   "outputs": [],
   "source": [
    "# Init\n",
    "x = 0\n",
    "z = 1"
   ]
  },
  {
   "cell_type": "code",
   "execution_count": 25,
   "id": "intimate-briefs",
   "metadata": {},
   "outputs": [
    {
     "data": {
      "text/plain": [
       "'\\nsome commentary\\n'"
      ]
     },
     "execution_count": 25,
     "metadata": {},
     "output_type": "execute_result"
    }
   ],
   "source": [
    "# Exclude\n",
    "\"\"\"\n",
    "some commentary\n",
    "\"\"\""
   ]
  },
  {
   "cell_type": "code",
   "execution_count": 26,
   "id": "dedicated-currency",
   "metadata": {},
   "outputs": [],
   "source": [
    "### HG1\n",
    "\n",
    "## Group1\n",
    "\n",
    "# Component1\n",
    "y = x + 1\n",
    "y = y**2 + z"
   ]
  },
  {
   "cell_type": "code",
   "execution_count": 27,
   "id": "contemporary-beast",
   "metadata": {},
   "outputs": [
    {
     "data": {
      "text/plain": [
       "2"
      ]
     },
     "execution_count": 27,
     "metadata": {},
     "output_type": "execute_result"
    }
   ],
   "source": [
    "# Exclude\n",
    "y"
   ]
  },
  {
   "cell_type": "code",
   "execution_count": 28,
   "id": "yellow-tuition",
   "metadata": {},
   "outputs": [],
   "source": [
    "# Init\n",
    "b = 3\n",
    "c = 4"
   ]
  },
  {
   "cell_type": "code",
   "execution_count": 29,
   "id": "wired-mathematics",
   "metadata": {},
   "outputs": [],
   "source": [
    "### HG2\n",
    "## Group2\n",
    "\n",
    "# Component2\n",
    "\n",
    "x = 2*y + 3*z #[m]\n",
    "a = b + c*1.2e-3 #[kg]"
   ]
  },
  {
   "cell_type": "code",
   "execution_count": 30,
   "id": "detailed-palestine",
   "metadata": {},
   "outputs": [],
   "source": [
    "# Exclude\n",
    "import numpy as np\n",
    "a = 0\n",
    "b = 1"
   ]
  },
  {
   "cell_type": "code",
   "execution_count": 31,
   "id": "superior-night",
   "metadata": {},
   "outputs": [],
   "source": [
    "# Component3\n",
    "\n",
    "long_variable = a + b\n",
    "function_test = np.log(x + np.sin(y)) #[rad]"
   ]
  },
  {
   "cell_type": "code",
   "execution_count": null,
   "id": "tutorial-injury",
   "metadata": {},
   "outputs": [],
   "source": []
  }
 ],
 "metadata": {
  "kernelspec": {
   "display_name": "Python 3",
   "language": "python",
   "name": "python3"
  },
  "language_info": {
   "codemirror_mode": {
    "name": "ipython",
    "version": 3
   },
   "file_extension": ".py",
   "mimetype": "text/x-python",
   "name": "python",
   "nbconvert_exporter": "python",
   "pygments_lexer": "ipython3",
   "version": "3.9.0"
  }
 },
 "nbformat": 4,
 "nbformat_minor": 5
}
