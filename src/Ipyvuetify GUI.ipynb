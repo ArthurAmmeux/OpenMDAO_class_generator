{
 "cells": [
  {
   "cell_type": "code",
   "execution_count": 1,
   "id": "virtual-facility",
   "metadata": {
    "scrolled": false
   },
   "outputs": [
    {
     "name": "stdout",
     "output_type": "stream",
     "text": [
      "Unable to import mpi4py. Parallel processing unavailable.\n",
      "Unable to import petsc4py. Parallel processing unavailable.\n",
      "Unable to import petsc4py. Parallel processing unavailable.\n"
     ]
    },
    {
     "data": {
      "application/vnd.jupyter.widget-view+json": {
       "model_id": "51206b0e312949f6845b3146d59a9279",
       "version_major": 2,
       "version_minor": 0
      },
      "text/plain": [
       "Box(children=(Box(children=(Btn(children=['Copy cells'], color='blue lighten-1', height='35px', width='250px')…"
      ]
     },
     "metadata": {},
     "output_type": "display_data"
    }
   ],
   "source": [
    "import importlib\n",
    "import GUI_notebook\n",
    "importlib.reload(GUI_notebook)\n",
    "vb = GUI_notebook.init(In)\n",
    "vb"
   ]
  },
  {
   "cell_type": "code",
   "execution_count": null,
   "id": "executive-workstation",
   "metadata": {},
   "outputs": [],
   "source": [
    "\"\"\"\n",
    "---Test Text---\n",
    "\n",
    "# Component1\n",
    "\n",
    "x = 2*y + 3*z #[m]\n",
    "a = b + c*1.2e-3 #[kg]\n",
    "\n",
    "# Component2\n",
    "\n",
    "long_variable = a + b #[long_unit]\n",
    "function_test = np.log(x + np.sin(y)) #[rad]\n",
    "\n",
    "\n",
    "\"\"\""
   ]
  },
  {
   "cell_type": "code",
   "execution_count": null,
   "id": "given-commonwealth",
   "metadata": {},
   "outputs": [],
   "source": [
    "\"\"\"\n",
    "---Test Text---\n",
    "## Group1\n",
    "\n",
    "# Component1\n",
    "\n",
    "x = 2*y + 3*z #[m]\n",
    "a = b + c*1.2e-3 #[kg]\n",
    "\n",
    "# Component2\n",
    "\n",
    "long_variable = a + b\n",
    "function_test = np.log(x + np.sin(y)) #[rad]\n",
    "\n",
    "## Group2\n",
    "\n",
    "# Component3\n",
    "\n",
    "x = 2*y + 3*z\n",
    "a = b + c\n",
    "\n",
    "# Component4\n",
    "\n",
    "long_variable = a + b\n",
    "function_test = np.log(x + np.sin(y))\n",
    "\n",
    "\"\"\""
   ]
  },
  {
   "cell_type": "code",
   "execution_count": 2,
   "id": "exotic-noise",
   "metadata": {},
   "outputs": [],
   "source": [
    "# Imports\n",
    "import numpy as np\n",
    "import math\n",
    "import matplotlib as plt"
   ]
  },
  {
   "cell_type": "code",
   "execution_count": 3,
   "id": "existing-investigation",
   "metadata": {},
   "outputs": [],
   "source": [
    "# Init\n",
    "x = 0\n",
    "z = 1"
   ]
  },
  {
   "cell_type": "code",
   "execution_count": 4,
   "id": "intimate-briefs",
   "metadata": {},
   "outputs": [
    {
     "data": {
      "text/plain": [
       "'\\nsome commentary\\n'"
      ]
     },
     "execution_count": 4,
     "metadata": {},
     "output_type": "execute_result"
    }
   ],
   "source": [
    "# Exclude\n",
    "\"\"\"\n",
    "some commentary\n",
    "\"\"\""
   ]
  },
  {
   "cell_type": "code",
   "execution_count": 5,
   "id": "dedicated-currency",
   "metadata": {},
   "outputs": [],
   "source": [
    "### HG1\n",
    "\n",
    "## Group1\n",
    "\n",
    "# Component1\n",
    "y = x + 1\n",
    "y = y**2 + z"
   ]
  },
  {
   "cell_type": "code",
   "execution_count": null,
   "id": "contemporary-beast",
   "metadata": {},
   "outputs": [],
   "source": [
    "# Exclude\n",
    "y"
   ]
  },
  {
   "cell_type": "code",
   "execution_count": null,
   "id": "yellow-tuition",
   "metadata": {},
   "outputs": [],
   "source": [
    "# Init\n",
    "b = 3\n",
    "c = 4"
   ]
  },
  {
   "cell_type": "code",
   "execution_count": null,
   "id": "wired-mathematics",
   "metadata": {},
   "outputs": [],
   "source": [
    "### HG2\n",
    "## Group2\n",
    "\n",
    "# Component2\n",
    "\n",
    "x = 2*y + 3*z #[m]\n",
    "a = b + c*1.2e-3 #[kg]"
   ]
  },
  {
   "cell_type": "code",
   "execution_count": null,
   "id": "detailed-palestine",
   "metadata": {},
   "outputs": [],
   "source": [
    "# Exclude\n",
    "import numpy as np\n",
    "a = 0\n",
    "b = 1"
   ]
  },
  {
   "cell_type": "code",
   "execution_count": null,
   "id": "superior-night",
   "metadata": {},
   "outputs": [],
   "source": [
    "# Component3\n",
    "\n",
    "long_variable = a + b\n",
    "function_test = np.log(x + np.sin(y)) #[rad]"
   ]
  },
  {
   "cell_type": "code",
   "execution_count": null,
   "id": "tutorial-injury",
   "metadata": {},
   "outputs": [],
   "source": []
  },
  {
   "cell_type": "code",
   "execution_count": null,
   "id": "constant-tamil",
   "metadata": {},
   "outputs": [],
   "source": []
  }
 ],
 "metadata": {
  "kernelspec": {
   "display_name": "Python 3",
   "language": "python",
   "name": "python3"
  },
  "language_info": {
   "codemirror_mode": {
    "name": "ipython",
    "version": 3
   },
   "file_extension": ".py",
   "mimetype": "text/x-python",
   "name": "python",
   "nbconvert_exporter": "python",
   "pygments_lexer": "ipython3",
   "version": "3.9.0"
  }
 },
 "nbformat": 4,
 "nbformat_minor": 5
}
