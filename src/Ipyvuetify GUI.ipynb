{
 "cells": [
  {
   "cell_type": "code",
   "execution_count": 1,
   "id": "virtual-facility",
   "metadata": {
    "scrolled": false
   },
   "outputs": [
    {
     "data": {
      "application/vnd.jupyter.widget-view+json": {
       "model_id": "41431c868d6846ba8ac174ac68c643b5",
       "version_major": 2,
       "version_minor": 0
      },
      "text/plain": [
       "VBox(children=(Box(children=(Btn(children=['Copy cells'], color='blue lighten-1', height='55px', width='250px'…"
      ]
     },
     "metadata": {},
     "output_type": "display_data"
    }
   ],
   "source": [
    "import importlib\n",
    "import GUI_notebook\n",
    "importlib.reload(GUI_notebook)\n",
    "vb = GUI_notebook.init(In)\n",
    "vb"
   ]
  },
  {
   "cell_type": "code",
   "execution_count": 12,
   "id": "executive-workstation",
   "metadata": {},
   "outputs": [
    {
     "data": {
      "text/plain": [
       "'\\n---Test Text---\\n\\n# Component1\\n\\nx = 2*y + 3*z #[m]\\na = b + c*1.2e-3 #[kg]\\n\\n# Component2\\n\\nlong_variable = a + b #[long_unit]\\nfunction_test = np.log(x + np.sin(y)) #[rad]\\n\\n\\n'"
      ]
     },
     "execution_count": 12,
     "metadata": {},
     "output_type": "execute_result"
    }
   ],
   "source": [
    "\"\"\"\n",
    "---Test Text---\n",
    "\n",
    "# Component1\n",
    "\n",
    "x = 2*y + 3*z #[m]\n",
    "a = b + c*1.2e-3 #[kg]\n",
    "\n",
    "# Component2\n",
    "\n",
    "long_variable = a + b #[long_unit]\n",
    "function_test = np.log(x + np.sin(y)) #[rad]\n",
    "\n",
    "\n",
    "\"\"\""
   ]
  },
  {
   "cell_type": "code",
   "execution_count": null,
   "id": "given-commonwealth",
   "metadata": {},
   "outputs": [],
   "source": [
    "\"\"\"\n",
    "---Test Text---\n",
    "## Group1\n",
    "\n",
    "# Component1\n",
    "\n",
    "x = 2*y + 3*z #[m]\n",
    "a = b + c*1.2e-3 #[kg]\n",
    "\n",
    "# Component2\n",
    "\n",
    "long_variable = a + b\n",
    "function_test = np.log(x + np.sin(y)) #[rad]\n",
    "\n",
    "## Group2\n",
    "\n",
    "# Component3\n",
    "\n",
    "x = 2*y + 3*z\n",
    "a = b + c\n",
    "\n",
    "# Component4\n",
    "\n",
    "long_variable = a + b\n",
    "function_test = np.log(x + np.sin(y))\n",
    "\n",
    "\"\"\""
   ]
  },
  {
   "cell_type": "code",
   "execution_count": 2,
   "id": "intimate-briefs",
   "metadata": {},
   "outputs": [],
   "source": [
    "# Exclude\n",
    "x = 0\n",
    "z = 1"
   ]
  },
  {
   "cell_type": "code",
   "execution_count": 3,
   "id": "dedicated-currency",
   "metadata": {},
   "outputs": [],
   "source": [
    "# Component1\n",
    "y = x + 1\n",
    "y = y**2 + z"
   ]
  },
  {
   "cell_type": "code",
   "execution_count": 4,
   "id": "contemporary-beast",
   "metadata": {},
   "outputs": [
    {
     "data": {
      "text/plain": [
       "2"
      ]
     },
     "execution_count": 4,
     "metadata": {},
     "output_type": "execute_result"
    }
   ],
   "source": [
    "y"
   ]
  },
  {
   "cell_type": "code",
   "execution_count": 5,
   "id": "wired-mathematics",
   "metadata": {},
   "outputs": [
    {
     "ename": "NameError",
     "evalue": "name 'b' is not defined",
     "output_type": "error",
     "traceback": [
      "\u001b[1;31m---------------------------------------------------------------------------\u001b[0m",
      "\u001b[1;31mNameError\u001b[0m                                 Traceback (most recent call last)",
      "\u001b[1;32m<ipython-input-5-12b37072ec04>\u001b[0m in \u001b[0;36m<module>\u001b[1;34m\u001b[0m\n\u001b[0;32m      4\u001b[0m \u001b[1;33m\u001b[0m\u001b[0m\n\u001b[0;32m      5\u001b[0m \u001b[0mx\u001b[0m \u001b[1;33m=\u001b[0m \u001b[1;36m2\u001b[0m\u001b[1;33m*\u001b[0m\u001b[0my\u001b[0m \u001b[1;33m+\u001b[0m \u001b[1;36m3\u001b[0m\u001b[1;33m*\u001b[0m\u001b[0mz\u001b[0m \u001b[1;31m#[m]\u001b[0m\u001b[1;33m\u001b[0m\u001b[1;33m\u001b[0m\u001b[0m\n\u001b[1;32m----> 6\u001b[1;33m \u001b[0ma\u001b[0m \u001b[1;33m=\u001b[0m \u001b[0mb\u001b[0m \u001b[1;33m+\u001b[0m \u001b[0mc\u001b[0m\u001b[1;33m*\u001b[0m\u001b[1;36m1.2e-3\u001b[0m \u001b[1;31m#[kg]\u001b[0m\u001b[1;33m\u001b[0m\u001b[1;33m\u001b[0m\u001b[0m\n\u001b[0m",
      "\u001b[1;31mNameError\u001b[0m: name 'b' is not defined"
     ]
    }
   ],
   "source": [
    "## Group1\n",
    "\n",
    "# Component1\n",
    "\n",
    "x = 2*y + 3*z #[m]\n",
    "a = b + c*1.2e-3 #[kg]"
   ]
  },
  {
   "cell_type": "code",
   "execution_count": 6,
   "id": "detailed-palestine",
   "metadata": {},
   "outputs": [],
   "source": [
    "# Exclude\n",
    "a = 0\n",
    "b = 1"
   ]
  },
  {
   "cell_type": "code",
   "execution_count": 7,
   "id": "superior-night",
   "metadata": {},
   "outputs": [
    {
     "ename": "NameError",
     "evalue": "name 'np' is not defined",
     "output_type": "error",
     "traceback": [
      "\u001b[1;31m---------------------------------------------------------------------------\u001b[0m",
      "\u001b[1;31mNameError\u001b[0m                                 Traceback (most recent call last)",
      "\u001b[1;32m<ipython-input-7-84f604f9d44b>\u001b[0m in \u001b[0;36m<module>\u001b[1;34m\u001b[0m\n\u001b[0;32m      2\u001b[0m \u001b[1;33m\u001b[0m\u001b[0m\n\u001b[0;32m      3\u001b[0m \u001b[0mlong_variable\u001b[0m \u001b[1;33m=\u001b[0m \u001b[0ma\u001b[0m \u001b[1;33m+\u001b[0m \u001b[0mb\u001b[0m\u001b[1;33m\u001b[0m\u001b[1;33m\u001b[0m\u001b[0m\n\u001b[1;32m----> 4\u001b[1;33m \u001b[0mfunction_test\u001b[0m \u001b[1;33m=\u001b[0m \u001b[0mnp\u001b[0m\u001b[1;33m.\u001b[0m\u001b[0mlog\u001b[0m\u001b[1;33m(\u001b[0m\u001b[0mx\u001b[0m \u001b[1;33m+\u001b[0m \u001b[0mnp\u001b[0m\u001b[1;33m.\u001b[0m\u001b[0msin\u001b[0m\u001b[1;33m(\u001b[0m\u001b[0my\u001b[0m\u001b[1;33m)\u001b[0m\u001b[1;33m)\u001b[0m \u001b[1;31m#[rad]\u001b[0m\u001b[1;33m\u001b[0m\u001b[1;33m\u001b[0m\u001b[0m\n\u001b[0m",
      "\u001b[1;31mNameError\u001b[0m: name 'np' is not defined"
     ]
    }
   ],
   "source": [
    "# Component2\n",
    "\n",
    "long_variable = a + b\n",
    "function_test = np.log(x + np.sin(y)) #[rad]"
   ]
  },
  {
   "cell_type": "code",
   "execution_count": null,
   "id": "tutorial-injury",
   "metadata": {},
   "outputs": [],
   "source": []
  }
 ],
 "metadata": {
  "kernelspec": {
   "display_name": "Python 3",
   "language": "python",
   "name": "python3"
  },
  "language_info": {
   "codemirror_mode": {
    "name": "ipython",
    "version": 3
   },
   "file_extension": ".py",
   "mimetype": "text/x-python",
   "name": "python",
   "nbconvert_exporter": "python",
   "pygments_lexer": "ipython3",
   "version": "3.9.0"
  }
 },
 "nbformat": 4,
 "nbformat_minor": 5
}
