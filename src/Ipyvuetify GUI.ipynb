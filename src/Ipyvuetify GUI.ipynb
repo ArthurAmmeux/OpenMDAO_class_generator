{
 "cells": [
  {
   "cell_type": "code",
   "execution_count": 2,
   "id": "nervous-breeding",
   "metadata": {
    "scrolled": false
   },
   "outputs": [
    {
     "data": {
      "application/vnd.jupyter.widget-view+json": {
       "model_id": "d7b4dd6bbdd7444caa71f1b2b249ce53",
       "version_major": 2,
       "version_minor": 0
      },
      "text/plain": [
       "Box(children=(Box(children=(Btn(children=['Copy cells'], color='blue lighten-1', height='35px', width='250px')…"
      ]
     },
     "metadata": {},
     "output_type": "display_data"
    },
    {
     "data": {
      "text/markdown": [
       "```python\n",
       "import openmdao.api as om\n",
       "import numpy as np\n",
       "\n",
       "\n",
       "class Component1(om.ExplicitComponent):\n",
       "    def setup(self):\n",
       "        self.add_input(\"x_name\", val=np.nan)\n",
       "        self.add_output(\"y_name\", units=\"kg\")\n",
       "\n",
       "    def setup_partials(self):\n",
       "        self.declare_partials(\"y_name\", \"x_name\")\n",
       "\n",
       "    def compute(self, inputs, outputs, discrete_inputs=None, discrete_outputs=None):\n",
       "        x = inputs[\"x_name\"]\n",
       "\n",
       "        y = x + 1  # [kg] Mass\n",
       "\n",
       "        outputs[\"y_name\"] = y\n",
       "\n",
       "    def compute_partials(self, inputs, J, **kwargs):\n",
       "        x = inputs[\"x_name\"]\n",
       "\n",
       "        J[\"y_name\", \"x_name\"] = 1\n",
       "\n",
       "\n",
       "```"
      ],
      "text/plain": [
       "<IPython.core.display.Markdown object>"
      ]
     },
     "metadata": {},
     "output_type": "display_data"
    }
   ],
   "source": [
    "from IPython.display import clear_output\n",
    "import openmdao.api as om\n",
    "clear_output()\n",
    "import importlib\n",
    "import GUI_notebook\n",
    "importlib.reload(GUI_notebook)\n",
    "vb = GUI_notebook.init(In)\n",
    "vb"
   ]
  },
  {
   "cell_type": "code",
   "execution_count": null,
   "id": "confused-concern",
   "metadata": {},
   "outputs": [],
   "source": [
    "\"\"\"\n",
    "---Test Text---\n",
    "\n",
    "#% Component1\n",
    "\n",
    "x = 2*y + 3*z #[m]\n",
    "a = np.pi*b + c*1.2e-3 #[kg]\n",
    "\n",
    "#% Component2\n",
    "\n",
    "long_variable = a + b #[long_unit]\n",
    "function_test = np.log(x + np.sin(y)) #[rad]\n",
    "\n",
    "\n",
    "\"\"\""
   ]
  },
  {
   "cell_type": "code",
   "execution_count": null,
   "id": "planned-russell",
   "metadata": {},
   "outputs": [],
   "source": [
    "\"\"\"\n",
    "---Test Text---\n",
    "#%% Group1\n",
    "\n",
    "#% Component1\n",
    "\n",
    "x = 2*y + 3*z #[m]\n",
    "a = b + c*1.2e-3 #[kg]\n",
    "\n",
    "#% Component2\n",
    "\n",
    "long_variable = a + b\n",
    "function_test = np.log(x + np.sin(y)) #[rad]\n",
    "\n",
    "#%% Group2\n",
    "\n",
    "#% Component3\n",
    "\n",
    "x = 2*y + 3*z\n",
    "a = b + c\n",
    "\n",
    "#% Component4\n",
    "\n",
    "long_variable = a + b\n",
    "function_test = np.log(x + np.sin(y))\n",
    "\n",
    "\"\"\""
   ]
  },
  {
   "cell_type": "code",
   "execution_count": null,
   "id": "dangerous-overhead",
   "metadata": {},
   "outputs": [],
   "source": [
    "# Import\n",
    "import numpy as np\n",
    "import math\n",
    "from math import sin, cos"
   ]
  },
  {
   "cell_type": "code",
   "execution_count": null,
   "id": "statutory-former",
   "metadata": {},
   "outputs": [],
   "source": [
    "# Init\n",
    "x = 0\n",
    "z = 1"
   ]
  },
  {
   "cell_type": "code",
   "execution_count": null,
   "id": "auburn-pennsylvania",
   "metadata": {},
   "outputs": [],
   "source": [
    "# Exclude\n",
    "\"\"\"\n",
    "some commentary\n",
    "\"\"\""
   ]
  },
  {
   "cell_type": "code",
   "execution_count": null,
   "id": "featured-programmer",
   "metadata": {},
   "outputs": [],
   "source": [
    "#%%% HG1\n",
    "\n",
    "#%% Group1\n",
    "\n",
    "#% Component1\n",
    "y = x + 1\n",
    "z = y**2 + x"
   ]
  },
  {
   "cell_type": "code",
   "execution_count": null,
   "id": "smooth-margin",
   "metadata": {},
   "outputs": [],
   "source": [
    "# Exclude\n",
    "y"
   ]
  },
  {
   "cell_type": "code",
   "execution_count": null,
   "id": "acoustic-charleston",
   "metadata": {},
   "outputs": [],
   "source": [
    "# Init\n",
    "b = 3\n",
    "c = 4"
   ]
  },
  {
   "cell_type": "code",
   "execution_count": null,
   "id": "mighty-wheat",
   "metadata": {},
   "outputs": [],
   "source": [
    "#%%% HG2\n",
    "#%% Group2\n",
    "\n",
    "#% Component2\n",
    "\n",
    "x = 2*y + 3*z #[m]\n",
    "a = b + c*1.2e-3 #[kg]"
   ]
  },
  {
   "cell_type": "code",
   "execution_count": null,
   "id": "broke-movement",
   "metadata": {},
   "outputs": [],
   "source": [
    "# Exclude\n",
    "import numpy as np\n",
    "a = 0\n",
    "b = 1"
   ]
  },
  {
   "cell_type": "code",
   "execution_count": null,
   "id": "irish-strike",
   "metadata": {},
   "outputs": [],
   "source": [
    "#% Component3\n",
    "\n",
    "long_variable = a + b\n",
    "function_test = np.log(x + np.sin(y)) #[rad]"
   ]
  },
  {
   "cell_type": "code",
   "execution_count": null,
   "id": "latin-cambridge",
   "metadata": {},
   "outputs": [],
   "source": []
  },
  {
   "cell_type": "code",
   "execution_count": null,
   "id": "assigned-postcard",
   "metadata": {},
   "outputs": [],
   "source": [
    "# Import\n",
    "import numpy as np\n",
    "from math import sin"
   ]
  },
  {
   "cell_type": "code",
   "execution_count": null,
   "id": "checked-house",
   "metadata": {},
   "outputs": [],
   "source": [
    "# Init\n",
    "b = 0\n",
    "c = 1"
   ]
  },
  {
   "cell_type": "code",
   "execution_count": null,
   "id": "agreed-warren",
   "metadata": {},
   "outputs": [],
   "source": [
    "#%% Group\n",
    "#% Component\n",
    "a = b**2 + 3*c\n",
    "# a is an intermediate variable, the user can simply delete it if they do not want it as an imput\n",
    "d = 3*a + 2 #[m]\n",
    "e = 2*math.sin(a) - np.cos(d) #[rad]"
   ]
  },
  {
   "cell_type": "code",
   "execution_count": null,
   "id": "under-sponsorship",
   "metadata": {},
   "outputs": [],
   "source": [
    "# Exclude\n",
    "a, d ,e"
   ]
  },
  {
   "cell_type": "code",
   "execution_count": null,
   "id": "ranging-router",
   "metadata": {},
   "outputs": [],
   "source": []
  }
 ],
 "metadata": {
  "kernelspec": {
   "display_name": "Python 3",
   "language": "python",
   "name": "python3"
  },
  "language_info": {
   "codemirror_mode": {
    "name": "ipython",
    "version": 3
   },
   "file_extension": ".py",
   "mimetype": "text/x-python",
   "name": "python",
   "nbconvert_exporter": "python",
   "pygments_lexer": "ipython3",
   "version": "3.9.0"
  }
 },
 "nbformat": 4,
 "nbformat_minor": 5
}
