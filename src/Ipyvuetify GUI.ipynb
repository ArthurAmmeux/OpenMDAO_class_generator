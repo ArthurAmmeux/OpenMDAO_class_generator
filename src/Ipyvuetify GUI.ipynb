{
 "cells": [
  {
   "cell_type": "code",
   "execution_count": 7,
   "id": "impressive-venezuela",
   "metadata": {
    "scrolled": false
   },
   "outputs": [
    {
     "data": {
      "application/vnd.jupyter.widget-view+json": {
       "model_id": "f52256f70b184061a255ef34b3c634c7",
       "version_major": 2,
       "version_minor": 0
      },
      "text/plain": [
       "VBox(children=(Select(items=['om.Group', 'om.Component'], label='Type', v_model='om.Component'), Textarea(labe…"
      ]
     },
     "metadata": {},
     "output_type": "display_data"
    }
   ],
   "source": [
    "import ipywidgets as widgets\n",
    "import ipyvuetify as v\n",
    "import multi_component_print as mc_print\n",
    "import group_component_print as gc_print\n",
    "from component_filegen import gen_file\n",
    "import variable_recognition as vr\n",
    "\n",
    "def print_click(widget, event, data):\n",
    "    print_but.children=['Code printed']\n",
    "    print(\"Type:\")\n",
    "    print(gc.v_model)\n",
    "    \n",
    "    in_str = function.v_model\n",
    "    \n",
    "    if gc.v_model == 'om.Group':\n",
    "        result = gc_print.total_parse(in_str)\n",
    "        gc_print.print_all(result)\n",
    "        \n",
    "    elif gc.v_model == 'om.Component':\n",
    "        mc_print.print_components(in_str)\n",
    "\n",
    "def gen_click(widget, event, data):\n",
    "    gen_but.children=['File generated ']\n",
    "    \n",
    "    inp, out = vr.get_variables(function.v_model)\n",
    "    inputs = []\n",
    "    outputs = []\n",
    "    units_i = []\n",
    "    units_o = []\n",
    "    print(\"Inputs detected:\")\n",
    "    print(inp)\n",
    "    print(\"Outputs detected:\")\n",
    "    print(out)\n",
    "    for x in inp:\n",
    "        units_i.append([1,0])\n",
    "        inputs.append([x, x])\n",
    "    for x in out:\n",
    "        units_o.append([1,0])\n",
    "        outputs.append([x, x])\n",
    "    edited_function = vr.edit_function(inputs, outputs, function.v_model)\n",
    "    gen_file(f_name.v_model, c_name.v_model, inputs, outputs, units_i, units_o, edited_function)\n",
    "    \n",
    "\n",
    "print_but = v.Btn(children=['Print code'])\n",
    "print_but.on_event('click', print_click)\n",
    "gen_but = v.Btn(children=['Generate file'], color=\"grey\")\n",
    "gen_but.on_event('click', gen_click)\n",
    "gc = v.Select( v_model = 'om.Component',\n",
    "    label='Type',\n",
    "    items=['om.Group', 'om.Component'])\n",
    "#f_name = v.TextField(v_model= 'default', label='File Name', placeholder='no extension required')\n",
    "#c_name = v.TextField(v_model= 'default', label='Class Name', placeholder='starts uppercase')\n",
    "\n",
    "function = v.Textarea(v_model= '# Component1\\ny = x + 1', label='Equations' )\n",
    "\n",
    "W = [gc, function, print_but, gen_but]\n",
    "\n",
    "widgets.VBox(W)"
   ]
  },
  {
   "cell_type": "code",
   "execution_count": 4,
   "id": "worth-batch",
   "metadata": {},
   "outputs": [
    {
     "data": {
      "text/plain": [
       "'\\n---Test Text---\\n## Group1\\n\\n# Component1\\n\\nx = 2*y + 3*z\\na = b + c\\n\\n# Component2\\n\\nlong_variable = a + b\\nfunction_test = np.log(x + np.sin(y))\\n\\n## Group2\\n\\n# Component3\\n\\nx = 2*y + 3*z\\na = b + c\\n\\n# Component4\\n\\nlong_variable = a + b\\nfunction_test = np.log(x + np.sin(y))\\n\\n'"
      ]
     },
     "execution_count": 4,
     "metadata": {},
     "output_type": "execute_result"
    }
   ],
   "source": [
    "\"\"\"\n",
    "---Test Text---\n",
    "## Group1\n",
    "\n",
    "# Component1\n",
    "\n",
    "x = 2*y + 3*z\n",
    "a = b + c\n",
    "\n",
    "# Component2\n",
    "\n",
    "long_variable = a + b\n",
    "function_test = np.log(x + np.sin(y))\n",
    "\n",
    "## Group2\n",
    "\n",
    "# Component3\n",
    "\n",
    "x = 2*y + 3*z\n",
    "a = b + c\n",
    "\n",
    "# Component4\n",
    "\n",
    "long_variable = a + b\n",
    "function_test = np.log(x + np.sin(y))\n",
    "\n",
    "\"\"\""
   ]
  },
  {
   "cell_type": "code",
   "execution_count": null,
   "id": "knowing-script",
   "metadata": {},
   "outputs": [],
   "source": [
    "\"\"\"\n",
    "---Test Text---\n",
    "\n",
    "# Component1\n",
    "\n",
    "x = 2*y + 3*z\n",
    "a = b + c\n",
    "\n",
    "# Component2\n",
    "\n",
    "long_variable = a + b\n",
    "function_test = np.log(x + np.sin(y))\n",
    "\n",
    "\n",
    "\"\"\""
   ]
  }
 ],
 "metadata": {
  "kernelspec": {
   "display_name": "Python 3",
   "language": "python",
   "name": "python3"
  },
  "language_info": {
   "codemirror_mode": {
    "name": "ipython",
    "version": 3
   },
   "file_extension": ".py",
   "mimetype": "text/x-python",
   "name": "python",
   "nbconvert_exporter": "python",
   "pygments_lexer": "ipython3",
   "version": "3.9.0"
  }
 },
 "nbformat": 4,
 "nbformat_minor": 5
}
